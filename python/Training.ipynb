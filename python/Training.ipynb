{
 "cells": [
  {
   "cell_type": "markdown",
   "metadata": {},
   "source": [
    "### Correction of Topological Errors in Traces \n",
    "Multiple stacks of neuron images were traced by two users to create a labeled dataset and assess the baseline of inter-user variability. All traces were then disconnected at branch points and a deep neural network was trained to detect the correct way of reconnecting the branches. Custom morphological features were generated for each cluster of branch points, in a way that is dependent on a merging scenario but invariant to translations, rotations, and reflections of the cluster in the imaging plane. The features and image volume centered at the branch point were used for training a neural network that concatenates these input streams and outputs the confidence measure for different branch merging scenarios."
   ]
  },
  {
   "cell_type": "code",
   "execution_count": 31,
   "metadata": {},
   "outputs": [],
   "source": [
    "# Import \n",
    "import numpy as np\n",
    "from numpy.random import seed\n",
    "from keras.layers import Dense, Activation, BatchNormalization, Concatenate\n",
    "from keras.callbacks import TensorBoard\n",
    "import datetime\n",
    "import scipy.io as sio"
   ]
  },
  {
   "cell_type": "code",
   "execution_count": 32,
   "metadata": {},
   "outputs": [],
   "source": [
    "ImagetoTest = 1\n",
    "run = 0\n",
    "UseIMage = True"
   ]
  },
  {
   "cell_type": "code",
   "execution_count": 33,
   "metadata": {},
   "outputs": [],
   "source": [
    "from variables import *\n",
    "from models import *\n",
    "from utils import *\n",
    "from datas import *\n",
    "import AT_Classes as Classes"
   ]
  },
  {
   "cell_type": "code",
   "execution_count": 34,
   "metadata": {},
   "outputs": [],
   "source": [
    "lst_XYZ = ['False']\n",
    "lst_useImage = ['True']\n",
    "useEndpointFeatures = 'True'\n",
    "kernel_initializer='he_uniform'\n",
    "rotation_degrees = [0,90,180,270]\n",
    "flips = ['right']\n",
    "UseConv = True\n",
    "rotated_IMs = np.zeros([13,13,13,len(rotation_degrees)])"
   ]
  },
  {
   "cell_type": "code",
   "execution_count": 35,
   "metadata": {},
   "outputs": [],
   "source": [
    "epoch  = 100\n",
    "batch_size = 50 #50\n",
    "verbose=1 #verbose=1 will show you an animated progress bar\n",
    "doSMOTE = False #do replicate data using SMOTE method\n",
    "learning_Rate = 0.001 # default  =0.01"
   ]
  },
  {
   "cell_type": "code",
   "execution_count": 36,
   "metadata": {},
   "outputs": [
    {
     "name": "stdout",
     "output_type": "stream",
     "text": [
      "NEW_SmallUnet1TEST18INV_FEATURES_CONV=True_LR=0.001_100_sce_he_uniform_IM=1bchSiz=50_Use_IM=True_Epoch=100_run=1\n"
     ]
    }
   ],
   "source": [
    "x = datetime.datetime.today()\n",
    "nowTimeDate = x.strftime(\"%b_%d_%H_%M\")\n",
    "# PltNAme = 'AT_XYZ_is_'+str(useXYZ_Positions)+'_'+str(ImagetoTest)+'_run=2'+nowTimeDate\n",
    "\n",
    "PltNAme = 'NEW_SmallUnet1TEST18INV_FEATURES_CONV=' + str(UseConv) + '_LR=' + str(learning_Rate) + '_100_sce_' + str(\n",
    "    kernel_initializer) + '_IM=' + str(ImagetoTest) + 'bchSiz=' + str(batch_size) + '_Use_IM=' + str(\n",
    "    UseIMage) + '_Epoch=' + str(\n",
    "    epoch) + '_run=' + str(run + 1)\n",
    "print(PltNAme)"
   ]
  },
  {
   "cell_type": "code",
   "execution_count": 37,
   "metadata": {},
   "outputs": [
    {
     "name": "stdout",
     "output_type": "stream",
     "text": [
      "C:/Users/Seyed/Documents/TraceProofreading/data/datafeed/IMonce_limit100scen_NEW_Inv_FEATURES.mat\n"
     ]
    }
   ],
   "source": [
    "# filepath = 'E:\\AutomatedTraceResults\\DataForConnectingTraining\\Data_For_AE_BranchScenarios\\IMonce_limit100scen_NEW_Inv_FEATURES.mat'\n",
    "filepath = root_dir+'/data/datafeed/IMonce_limit100scen_NEW_Inv_FEATURES.mat'\n",
    "print(filepath)\n",
    "ScenariosData = sio.loadmat(filepath)"
   ]
  },
  {
   "cell_type": "code",
   "execution_count": 38,
   "metadata": {},
   "outputs": [],
   "source": [
    "IMnums = ScenariosData['IMnum']\n",
    "Features = ScenariosData['NewFeatures']\n",
    "IMs = ScenariosData['IMs']\n",
    "Scenarios = ScenariosData['Scenarios']\n",
    "Labels = ScenariosData['Labels']"
   ]
  },
  {
   "cell_type": "code",
   "execution_count": 39,
   "metadata": {},
   "outputs": [],
   "source": [
    "maxNumPoints = 12\n",
    "# IMsTrain = []\n",
    "# FeatureTrain = []\n",
    "# LabelsTrain = []\n",
    "# ScenariosTrain = []\n",
    "\n",
    "# IMsTest = []\n",
    "# FeatureTest = []\n",
    "# LabelsTest = []\n",
    "# ScenariosTest = []\n",
    "\n",
    "UseUpper = False\n",
    "numScenarios = Scenarios.shape\n",
    "counter = 0"
   ]
  },
  {
   "cell_type": "code",
   "execution_count": 42,
   "metadata": {},
   "outputs": [
    {
     "ename": "NameError",
     "evalue": "name 'FeatureTest' is not defined",
     "output_type": "error",
     "traceback": [
      "\u001b[1;31m---------------------------------------------------------------------------\u001b[0m",
      "\u001b[1;31mNameError\u001b[0m                                 Traceback (most recent call last)",
      "\u001b[1;32m<ipython-input-42-0deeff895e19>\u001b[0m in \u001b[0;36m<module>\u001b[1;34m\u001b[0m\n\u001b[0;32m     39\u001b[0m \u001b[1;31m#         ScenariosTest.append(scenario_arr)\u001b[0m\u001b[1;33m\u001b[0m\u001b[1;33m\u001b[0m\u001b[1;33m\u001b[0m\u001b[0m\n\u001b[0;32m     40\u001b[0m \u001b[1;31m#         IMsTest.append(IM)\u001b[0m\u001b[1;33m\u001b[0m\u001b[1;33m\u001b[0m\u001b[1;33m\u001b[0m\u001b[0m\n\u001b[1;32m---> 41\u001b[1;33m         \u001b[0mFeatureTest\u001b[0m\u001b[1;33m.\u001b[0m\u001b[0mappend\u001b[0m\u001b[1;33m(\u001b[0m\u001b[0mFeature\u001b[0m\u001b[1;33m)\u001b[0m\u001b[1;33m\u001b[0m\u001b[1;33m\u001b[0m\u001b[0m\n\u001b[0m\u001b[0;32m     42\u001b[0m \u001b[1;33m\u001b[0m\u001b[0m\n\u001b[0;32m     43\u001b[0m         \u001b[0mLabelsTest\u001b[0m\u001b[1;33m.\u001b[0m\u001b[0mappend\u001b[0m\u001b[1;33m(\u001b[0m\u001b[0mLabel\u001b[0m\u001b[1;33m)\u001b[0m\u001b[1;33m\u001b[0m\u001b[1;33m\u001b[0m\u001b[0m\n",
      "\u001b[1;31mNameError\u001b[0m: name 'FeatureTest' is not defined"
     ]
    }
   ],
   "source": [
    "for i in range(numScenarios[1]):\n",
    "    scenario = Scenarios[0,i]\n",
    "\n",
    "    IM = IMs[0,i]\n",
    "    # print(IM.shape)\n",
    "    Feature = Features[0, i]\n",
    "\n",
    "\n",
    "    # if scenario.shape[0] == 3:\n",
    "    #     maxNumPoints = 3\n",
    "\n",
    "    # for r in range(len(rotation_degrees)):\n",
    "    #     degree = rotation_degrees[r]\n",
    "    #     print(degree)\n",
    "    #     rotated_IMs[:,:,:,r] = scipy.ndimage.interpolation.rotate(IM, degree, mode='nearest', reshape=False)\n",
    "    #     # IM_Proj = Classes.IM3D.Z_Projection(rotated_IMs[:,:,:,r])\n",
    "    #     # Classes.IM3D.plt(IM_Proj)\n",
    "\n",
    "    Label = Labels[0, i]\n",
    "    # print(scenarios.shape)\n",
    "    # if scenario.any():\n",
    "    # scenarios.shape[2]\n",
    "\n",
    "    S = Classes.cl_scenario(maxNumPoints, scenario.shape[0],scenario,0)\n",
    "    if UseUpper:\n",
    "        scenario_arr = S.getUpperArr()\n",
    "    else:\n",
    "        scenario_arr = S.getWholeArr()\n",
    "\n",
    "    if IMnums[0, i] != ImagetoTest:\n",
    "        ScenariosTrain.append(scenario_arr)\n",
    "        IMsTrain.append(IM)\n",
    "\n",
    "        FeatureTrain.append(Feature)\n",
    "\n",
    "        LabelsTrain.append(Label)\n",
    "\n",
    "    else:\n",
    "        ScenariosTest.append(scenario_arr)\n",
    "        IMsTest.append(IM)\n",
    "        FeatureTest.append(Feature)\n",
    "\n",
    "        LabelsTest.append(Label)"
   ]
  },
  {
   "cell_type": "code",
   "execution_count": null,
   "metadata": {},
   "outputs": [],
   "source": [
    "ScenariosTrain = np.asarray(ScenariosTrain, dtype=np.float)\n",
    "IMsTrain = np.asarray(IMsTrain, dtype=np.float)\n",
    "IMsTrain3D = IMsTrain\n",
    "FeatureTrain = np.asarray(FeatureTrain, dtype=np.float)\n",
    "FeatureTrain = FeatureTrain[:,0,:]\n",
    "\n",
    "\n",
    "LabelsTrain = np.asarray(LabelsTrain, dtype=np.float)\n",
    "LabelsTrain = LabelsTrain[:,0]\n",
    "LabelsTrain = LabelsTrain[:,0]\n",
    "IMsTrain1 = np.reshape(IMsTrain, [IMsTrain.shape[0],np.product(IMsTrain[0,:,:,:].shape)])\n",
    "\n",
    "ScenariosTest = np.asarray(ScenariosTest, dtype=np.float)\n",
    "IMsTest = np.asarray(IMsTest, dtype=np.float)\n",
    "IMsTest3D = IMsTest\n",
    "FeatureTest = np.asarray(FeatureTest, dtype=np.float)\n",
    "FeatureTest = FeatureTest[:,0,:]\n",
    "\n",
    "# Endpoint_features_Test = Endpoint_features_Test[:, :, 0]\n",
    "LabelsTest = np.asarray(LabelsTest, dtype=np.float)\n",
    "LabelsTest = LabelsTest[:,0]\n",
    "LabelsTest = LabelsTest[:,0]\n",
    "IMsTest1 = np.reshape(IMsTest, [IMsTest.shape[0],np.product(IMsTest[0,:,:,:].shape)])\n",
    "\n",
    "# Sbhuffle Data\n",
    "indices = np.arange(len(ScenariosTrain))\n",
    "np.random.shuffle(indices)\n",
    "ScenariosTrain = ScenariosTrain[indices]\n",
    "IMsTrain = IMsTrain[indices]\n",
    "FeatureTrain = FeatureTrain[indices]\n",
    "\n",
    "LabelsTrain = LabelsTrain[indices]\n",
    "\n",
    "XIMs_train = IMsTrain1\n",
    "\n",
    "XFeature_train = FeatureTrain\n",
    "\n",
    "XScenarios_train = ScenariosTrain\n",
    "yIMs_train = LabelsTrain\n",
    "\n",
    "XIMs_test = IMsTest1\n",
    "XFeature_test = FeatureTest\n",
    "\n",
    "XScenarios_test = ScenariosTest\n",
    "yIMs_test = LabelsTest\n",
    "yFeature_test = LabelsTest\n",
    "yScenarios_test = LabelsTest\n",
    "\n",
    "print(XIMs_train.shape)\n",
    "print(XFeature_train.shape)\n",
    "print(XScenarios_train.shape)\n",
    "print(yIMs_train.shape)"
   ]
  },
  {
   "cell_type": "code",
   "execution_count": null,
   "metadata": {},
   "outputs": [],
   "source": [
    "# to ignore image data\n",
    "if UseIMage == False:\n",
    "    XIMs_train = np.zeros(XIMs_train.shape)\n",
    "    XIMs_test = np.zeros(XIMs_test.shape)\n",
    "    print('Not Using Image')"
   ]
  },
  {
   "cell_type": "code",
   "execution_count": null,
   "metadata": {},
   "outputs": [],
   "source": [
    "import keras\n",
    "from keras.layers import Conv3D, MaxPooling3D, Input, Dense, Flatten\n",
    "from keras.layers import (Concatenate, Conv3D, Dropout, Input,\n",
    "                          Dense, MaxPooling3D, UpSampling3D, Activation, Reshape, Lambda,\n",
    "                          Permute)"
   ]
  },
  {
   "cell_type": "code",
   "execution_count": null,
   "metadata": {},
   "outputs": [],
   "source": [
    "def ConvolutionBlock(x, name, fms, params):\n",
    "    x = Conv3D(filters=fms, **params, name=name+\"_conv0\")(x)\n",
    "    x = BatchNormalization(name=name+\"_bn0\")(x)\n",
    "    x = Activation(\"relu\", name=name+\"_relu0\")(x)\n",
    "\n",
    "    x = Conv3D(filters=fms, **params, name=name+\"_conv1\")(x)\n",
    "    x = BatchNormalization(name=name+\"_bn1\")(x)\n",
    "    x = Activation(\"relu\", name=name)(x)\n",
    "    return x\n",
    "\n",
    "if UseConv:\n",
    "    fms = 8\n",
    "    input1 = Input(shape=(13, 13, 13, 1), name=\"inputs\")\n",
    "\n",
    "    params = dict(kernel_size=(3, 3, 3), activation=None,\n",
    "                  padding=\"same\", kernel_initializer=\"he_uniform\")\n",
    "\n",
    "    # Transposed convolution parameters\n",
    "    params_trans = dict(kernel_size=(2, 2, 2), strides=(2, 2, 2), padding=\"same\")\n",
    "\n",
    "    # BEGIN - Encoding path\n",
    "    encodeA = ConvolutionBlock(input1, \"encodeA\", fms, params)\n",
    "    poolA = MaxPooling3D(name=\"poolA\", pool_size=(2, 2, 2))(encodeA)\n",
    "\n",
    "    encodeB = ConvolutionBlock(poolA, \"encodeB\", fms * 2, params)\n",
    "    poolB = MaxPooling3D(name=\"poolB\", pool_size=(2, 2, 2))(encodeB)\n",
    "    #\n",
    "    # encodeC = ConvolutionBlock(poolB, \"encodeC\", fms * 4, params)\n",
    "    # poolC = MaxPooling3D(name=\"poolC\", pool_size=(2, 2, 2))(encodeC)\n",
    "    #\n",
    "    # encodeD = ConvolutionBlock(poolC, \"encodeD\", fms * 8, params)\n",
    "\n",
    "    x2 = Flatten()(poolB)\n",
    "else:\n",
    "    # # Relu\n",
    "    input1 = keras.layers.Input(shape=(XIMs_train.shape[1],))\n",
    "    # ,kernel_regularizer=keras.regularizers.l2(l=0.2)\n",
    "    x1 = keras.layers.Dense(32, input_dim=XIMs_train.shape[1], activation='relu')(input1)\n",
    "    x2 = keras.layers.Dense(16, input_dim=XIMs_train.shape[1], activation='relu')(x1)"
   ]
  },
  {
   "cell_type": "code",
   "execution_count": null,
   "metadata": {},
   "outputs": [],
   "source": [
    "# Relu\n",
    "input3 = keras.layers.Input(shape=(XFeature_train.shape[1],))\n",
    "xxx0 = keras.layers.Dense(32, input_dim=XFeature_train.shape[1], activation='relu')(input3)\n",
    "xxx1 = keras.layers.Dense(16, input_dim=XFeature_train.shape[1], activation='relu')(xxx0)\n",
    "# xxx2 = keras.layers.Dense(8, input_dim=XFeature_train.shape[1], activation='relu')(xxx1)\n",
    "# xxx2 = keras.layers.Dense(16, activation='relu')(xxx1)\n",
    "# xxx3 = keras.layers.Dense(8, activation='relu')(xxx2)"
   ]
  },
  {
   "cell_type": "code",
   "execution_count": null,
   "metadata": {},
   "outputs": [],
   "source": [
    "combined = keras.layers.concatenate([x2, xxx1])\n",
    "# Relu\n",
    "out = keras.layers.Dense(4, activation='sigmoid')(combined)"
   ]
  },
  {
   "cell_type": "code",
   "execution_count": null,
   "metadata": {},
   "outputs": [],
   "source": [
    "out1 = keras.layers.Dense(1, activation='sigmoid')(out)\n",
    "model = keras.models.Model(inputs=[input1, input3], outputs=out1)"
   ]
  },
  {
   "cell_type": "code",
   "execution_count": null,
   "metadata": {},
   "outputs": [],
   "source": [
    "optimizer = keras.optimizers.Adam(lr=learning_Rate)"
   ]
  },
  {
   "cell_type": "code",
   "execution_count": 43,
   "metadata": {},
   "outputs": [
    {
     "ename": "NameError",
     "evalue": "name 'model' is not defined",
     "output_type": "error",
     "traceback": [
      "\u001b[1;31m---------------------------------------------------------------------------\u001b[0m",
      "\u001b[1;31mNameError\u001b[0m                                 Traceback (most recent call last)",
      "\u001b[1;32m<ipython-input-43-6ccbb6553263>\u001b[0m in \u001b[0;36m<module>\u001b[1;34m\u001b[0m\n\u001b[1;32m----> 1\u001b[1;33m model.compile(loss='binary_crossentropy',\n\u001b[0m\u001b[0;32m      2\u001b[0m                           \u001b[0moptimizer\u001b[0m\u001b[1;33m=\u001b[0m\u001b[0moptimizer\u001b[0m\u001b[1;33m,\u001b[0m\u001b[1;33m\u001b[0m\u001b[1;33m\u001b[0m\u001b[0m\n\u001b[0;32m      3\u001b[0m                           \u001b[0mmetrics\u001b[0m\u001b[1;33m=\u001b[0m\u001b[1;33m[\u001b[0m\u001b[1;34m'accuracy'\u001b[0m\u001b[1;33m]\u001b[0m\u001b[1;33m,\u001b[0m\u001b[1;33m\u001b[0m\u001b[1;33m\u001b[0m\u001b[0m\n\u001b[0;32m      4\u001b[0m \u001b[1;33m\u001b[0m\u001b[0m\n\u001b[0;32m      5\u001b[0m                           )\n",
      "\u001b[1;31mNameError\u001b[0m: name 'model' is not defined"
     ]
    }
   ],
   "source": [
    "model.compile(loss='binary_crossentropy',\n",
    "                          optimizer=optimizer,\n",
    "                          metrics=['accuracy'],\n",
    "\n",
    "                          )"
   ]
  },
  {
   "cell_type": "code",
   "execution_count": null,
   "metadata": {},
   "outputs": [],
   "source": [
    "tensorboard = TensorBoard(log_dir=\"E:/AutomatedTracing/AutomatedTracing/Python/logs/\"+PltNAme)\n",
    "# tensorboard --logdir=E:\\AutomatedTracing\\AutomatedTracing\\Python\\logs\n",
    "# http://localhost:6006/#scalars&run=AT_All3&runSelectionState=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%3D%3D&_smoothingWeight=0.586\n",
    "\n",
    "# checkpoint\n",
    "from keras.callbacks import ModelCheckpoint\n",
    "filepath= root_dir+'/data/models/'+PltNAme+\"_weights.max_val_acc.hdf5\"\n",
    "checkpoint_max_val_acc = ModelCheckpoint(filepath, monitor='val_acc', verbose=1, save_best_only=True, mode='max')\n",
    "\n",
    "filepath = root_dir+'/data/models/'+ PltNAme + \"_weights.min_val_acc.hdf5\"\n",
    "checkpoint_min_val_acc = ModelCheckpoint(filepath, monitor='val_acc', verbose=1, save_best_only=True,\n",
    "                                         mode='min')\n",
    "\n",
    "filepath = root_dir+'/data/models/'+ PltNAme + \"_weights.max_val_loss.hdf5\"\n",
    "checkpoint_max_val_loss = ModelCheckpoint(filepath, monitor='val_loss', verbose=1, save_best_only=True, mode='max')\n",
    "\n",
    "filepath = root_dir+'/data/models/'+ PltNAme + \"_weights.min_val_loss.hdf5\"\n",
    "checkpoint_min_val_loss = ModelCheckpoint(filepath, monitor='val_loss', verbose=1, save_best_only=True,\n",
    "                                          mode='min')"
   ]
  },
  {
   "cell_type": "code",
   "execution_count": null,
   "metadata": {},
   "outputs": [],
   "source": [
    "if UseConv:\n",
    "    X_IMs = IMsTrain3D.reshape(IMsTrain3D.shape[0], IMsTrain3D.shape[1], IMsTrain3D.shape[2], IMsTrain3D.shape[3],\n",
    "                       1)\n",
    "else:\n",
    "    X_IMs = XIMs_train"
   ]
  },
  {
   "cell_type": "code",
   "execution_count": null,
   "metadata": {},
   "outputs": [],
   "source": [
    "print(X_IMs.shape)"
   ]
  },
  {
   "cell_type": "code",
   "execution_count": null,
   "metadata": {},
   "outputs": [],
   "source": [
    "history = model.fit([X_IMs,XFeature_train],\n",
    "                                yIMs_train,\n",
    "                                epochs=100,\n",
    "                                batch_size=batch_size,\n",
    "                                validation_split=0.33,\n",
    "                                verbose=1,\n",
    "                                callbacks=[checkpoint_max_val_acc,checkpoint_min_val_acc,checkpoint_max_val_loss,checkpoint_min_val_loss,tensorboard])"
   ]
  },
  {
   "cell_type": "code",
   "execution_count": null,
   "metadata": {},
   "outputs": [],
   "source": [
    "# model.save(root_dir+'/data/models/'+PltNAme+'.h5')\n",
    "# print(model.summary())\n",
    "# from keras.utils.vis_utils import plot_model\n",
    "# logpath = root_dir+'/data/models/'+PltNAme+'.png'\n",
    "# print(logpath)\n",
    "# plot_model(model, to_file=logpath, show_shapes=True, show_layer_names=True)"
   ]
  },
  {
   "cell_type": "code",
   "execution_count": null,
   "metadata": {},
   "outputs": [],
   "source": [
    "plt.figure(figsize=(8, 8))\n",
    "plt.title(\"Learning curve\")\n",
    "plt.plot(history.history[\"loss\"], label=\"loss\")\n",
    "plt.plot(history.history[\"val_loss\"], label=\"val_loss\")\n",
    "plt.plot( np.argmin(history.history[\"val_loss\"]), np.min(history.history[\"val_loss\"]), marker=\"x\", color=\"r\", label=\"best model\")\n",
    "plt.xlabel(\"Epochs\")\n",
    "plt.ylabel(\"log_loss\")\n",
    "plt.legend();"
   ]
  },
  {
   "cell_type": "code",
   "execution_count": null,
   "metadata": {},
   "outputs": [],
   "source": []
  }
 ],
 "metadata": {
  "kernelspec": {
   "display_name": "Python 3",
   "language": "python",
   "name": "python3"
  },
  "language_info": {
   "codemirror_mode": {
    "name": "ipython",
    "version": 3
   },
   "file_extension": ".py",
   "mimetype": "text/x-python",
   "name": "python",
   "nbconvert_exporter": "python",
   "pygments_lexer": "ipython3",
   "version": "3.7.3"
  }
 },
 "nbformat": 4,
 "nbformat_minor": 2
}
