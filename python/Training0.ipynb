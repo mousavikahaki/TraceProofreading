{
 "cells": [
  {
   "cell_type": "markdown",
   "metadata": {},
   "source": [
    "### Correction of Topological Errors in Traces \n",
    "Multiple stacks of neuron images were traced by two users to create a labeled dataset and assess the baseline of inter-user variability. All traces were then disconnected at branch points and a deep neural network was trained to detect the correct way of reconnecting the branches. Custom morphological features were generated for each cluster of branch points, in a way that is dependent on a merging scenario but invariant to translations, rotations, and reflections of the cluster in the imaging plane. The features and image volume centered at the branch point were used for training a neural network that concatenates these input streams and outputs the confidence measure for different branch merging scenarios.\n"
   ]
  },
  {
   "cell_type": "code",
   "execution_count": 51,
   "metadata": {},
   "outputs": [],
   "source": [
    "import pandas as pd\n",
    "import matplotlib.pyplot as plt\n",
    "import numpy as np\n",
    "from numpy.random import seed\n",
    "from keras.constraints import maxnorm\n",
    "import seaborn as sns\n",
    "import scipy\n",
    "from sklearn.model_selection import train_test_split\n",
    "from sklearn.preprocessing import StandardScaler\n",
    "import keras\n",
    "from keras.layers import (Concatenate, Conv3D, Dropout, Input, BatchNormalization, Flatten,\n",
    "                          Dense, MaxPooling3D, UpSampling3D, Activation, Reshape, Lambda,\n",
    "                           Permute)\n",
    "from keras.callbacks import TensorBoard\n",
    "import datetime\n",
    "import scipy.io as sio\n",
    "import AT_Classes as Classes"
   ]
  },
  {
   "cell_type": "code",
   "execution_count": 74,
   "metadata": {},
   "outputs": [],
   "source": [
    "def convolutionblock(x, name, fms, params):\n",
    "    x = Conv3D(filters=fms, **params, name=name+\"_conv0\")(x)\n",
    "    x = BatchNormalization(name=name+\"_bn0\")(x)\n",
    "    x = Activation(\"relu\", name=name+\"_relu0\")(x)\n",
    "\n",
    "    x = Conv3D(filters=fms, **params, name=name+\"_conv1\")(x)\n",
    "    x = BatchNormalization(name=name+\"_bn1\")(x)\n",
    "    x = Activation(\"relu\", name=name)(x)\n",
    "    return x"
   ]
  },
  {
   "cell_type": "code",
   "execution_count": 75,
   "metadata": {},
   "outputs": [],
   "source": [
    "lst_useImage = ['True']             # Using the second tower or not, Default = ['True','False']\n",
    "useEndpointFeatures = 'True'        # Use the proposed endpoint features\n",
    "kernel_initializer='he_uniform'     # Kernel Initializer, Methods: HeNormal, Identity, LecunUniform, LecunNormal\n",
    "rotation_degrees = [0,90,180,270]\n",
    "flips = ['right']\n",
    "UseConv = True\n",
    "maxNumPoints = 12                   # Limit the maximum number of merging points\n",
    "\n",
    "root_dir = 'E:/AutomatedTracing/TraceProofreading/TraceProofreading'\n",
    "\n",
    "rotated_IMs = np.zeros([13,13,13,len(rotation_degrees)])"
   ]
  },
  {
   "cell_type": "code",
   "execution_count": 76,
   "metadata": {},
   "outputs": [
    {
     "name": "stdout",
     "output_type": "stream",
     "text": [
      "TEMP22_Drop_20_3LAyerHalf81616_kernel555_S1_2_SmUnet1TEST20INV_FEATURES_CONV=True_LR=0.001_100_sce_he_uniform_IM=1bchSiz=50_Use_IM=['True']_Epoch=10_run=1_Feb_28_10_10\n"
     ]
    }
   ],
   "source": [
    "ImagetoTest = 1\n",
    "UseIMage = ['True']\n",
    "run = 0\n",
    "epoch  = 10             # number of epochs\n",
    "batch_size = 50         # batch size, Defualt = 50\n",
    "verbose= 1              # verbose=1 will show you an animated progress bar\n",
    "doSMOTE = False         # Replicate data using SMOTE method\n",
    "learning_Rate = 0.001   # Learning Rate, # Default  =0.001\n",
    "\n",
    "# Define now time for unique names in the model\n",
    "T = datetime.datetime.today()\n",
    "nowTimeDate = T.strftime(\"%b_%d_%H_%M\")\n",
    "# PltNAme = 'AT_XYZ_is5_'+str(useXYZ_Positions)+'_'+str(ImagetoTest)+'_run=2'+nowTimeDate\n",
    "\n",
    "PltNAme = 'TEMP22_Drop_20_3LAyerHalf81616_kernel555_S1_2_SmUnet1TEST20INV_FEATURES_CONV=' + str(UseConv) + '_LR=' + str(learning_Rate) + '_100_sce_' + str(\n",
    "    kernel_initializer) + '_IM=' + str(ImagetoTest) + 'bchSiz=' + str(batch_size) + '_Use_IM=' + str(\n",
    "    UseIMage) + '_Epoch=' + str(\n",
    "    epoch) + '_run=' + str(run + 1) + '_' +nowTimeDate\n",
    "print(PltNAme)"
   ]
  },
  {
   "cell_type": "code",
   "execution_count": 77,
   "metadata": {},
   "outputs": [],
   "source": [
    " # Use this for combination of Datasets 1 and 2\n",
    "filepath = \\\n",
    "    'E:\\AutomatedTraceResults\\DataForConnectingTraining\\Data_For_AE_BranchScenarios\\S1and2_IMonce_100_scen_NEW_Inv_FEATURES_User=SK.mat'\n",
    "\n",
    "# Load scienaros information\n",
    "ScenariosData = sio.loadmat(filepath)"
   ]
  },
  {
   "cell_type": "code",
   "execution_count": 78,
   "metadata": {},
   "outputs": [],
   "source": [
    "# Get Image numbers\n",
    "IMnums = ScenariosData['IMnum']\n",
    "# IMnum = IMnums[0,IMnums.shape[1]-1]\n",
    "# IMnums.shape\n",
    "\n",
    "# Get Features\n",
    "Features = ScenariosData['NewFeatures']\n",
    "# Feature = Features[0,Features.shape[1]-1]\n",
    "# Feature.shape\n",
    "\n",
    "# Get Image Intensities Data\n",
    "IMs = ScenariosData['IMs']\n",
    "# IMtmp = IMs[0,IMs.shape[1]-1]\n",
    "# IMtmp.shape\n",
    "\n",
    "# Get Scenarios Information\n",
    "Scenarios = ScenariosData['Scenarios']\n",
    "# Scenarios.shape\n",
    "# Scenarios[0,Scenarios.shape[1]-1]\n",
    "\n",
    "# Get Labels for Training\n",
    "Labels = ScenariosData['Labels']\n",
    "# Labels[0,Labels.shape[1]-1]\n",
    "\n",
    "# Clear Data for Each Run\n",
    "\n",
    "IMsTrain = []\n",
    "FeatureTrain = []\n",
    "LabelsTrain = []\n",
    "ScenariosTrain = []\n",
    "IMsTest = []\n",
    "FeatureTest = []\n",
    "LabelsTest = []\n",
    "ScenariosTest = []\n",
    "# Use Uper triangle in matrix,\n",
    "# the scienario matrix is symmetric matrix but you may use all data\n",
    "UseUpper = False\n",
    "numScenarios = Scenarios.shape\n",
    "counter = 0"
   ]
  },
  {
   "cell_type": "markdown",
   "metadata": {},
   "source": [
    "#### Generating Scienaros and Feature Data"
   ]
  },
  {
   "cell_type": "code",
   "execution_count": 79,
   "metadata": {},
   "outputs": [],
   "source": [
    "for i in range(numScenarios[1]):\n",
    "    scenario = Scenarios[0,i]\n",
    "\n",
    "    IM = IMs[0,i]\n",
    "    # print(IM.shape)\n",
    "    Feature = Features[0, i]\n",
    "\n",
    "    # if scenario.shape[0] == 3:\n",
    "    #     maxNumPoints = 3\n",
    "\n",
    "    for r in range(len(rotation_degrees)):\n",
    "        degree = rotation_degrees[r]\n",
    "        print(degree)\n",
    "        rotated_IMs[:,:,:,r] = scipy.ndimage.interpolation.rotate(IM, degree, mode='nearest', reshape=False)\n",
    "        # IM_Proj = Classes.IM3D.Z_Projection(rotated_IMs[:,:,:,r])\n",
    "        # Classes.IM3D.plt(IM_Proj)\n",
    "\n",
    "    Label = Labels[0, i]\n",
    "    # print(scenarios.shape)\n",
    "    # if scenario.any():\n",
    "    # scenarios.shape[2]\n",
    "\n",
    "    # Geting Scenario data from matrix (upper or all)\n",
    "    S = Classes.cl_scenario(maxNumPoints, scenario.shape[0],scenario,0)\n",
    "    if UseUpper:\n",
    "        scenario_arr = S.getUpperArr()\n",
    "    else:\n",
    "        scenario_arr = S.getWholeArr()\n",
    "\n",
    "    # Exclude the Test Image in Training\n",
    "    # Generating Training and Test Data\n",
    "    if IMnums[0, i] != ImagetoTest:\n",
    "        ScenariosTrain.append(scenario_arr)\n",
    "        IMsTrain.append(IM)\n",
    "        FeatureTrain.append(Feature)\n",
    "        LabelsTrain.append(Label)\n",
    "    else:\n",
    "        ScenariosTest.append(scenario_arr)\n",
    "        IMsTest.append(IM)\n",
    "        FeatureTest.append(Feature)\n",
    "        LabelsTest.append(Label)"
   ]
  },
  {
   "cell_type": "code",
   "execution_count": 80,
   "metadata": {},
   "outputs": [],
   "source": [
    "# Numpy array creation\n",
    "ScenariosTrain = np.asarray(ScenariosTrain, dtype=np.float)\n",
    "IMsTrain = np.asarray(IMsTrain, dtype=np.float)\n",
    "IMsTrain3D = IMsTrain\n",
    "FeatureTrain = np.asarray(FeatureTrain, dtype=np.float)\n",
    "FeatureTrain = FeatureTrain[:,0,:]\n",
    "LabelsTrain = np.asarray(LabelsTrain, dtype=np.float)\n",
    "LabelsTrain = LabelsTrain[:,0]\n",
    "LabelsTrain = LabelsTrain[:,0]\n",
    "IMTrain = np.reshape(IMsTrain, [IMsTrain.shape[0],np.product(IMsTrain[0,:,:,:].shape)])\n"
   ]
  },
  {
   "cell_type": "markdown",
   "metadata": {},
   "source": [
    "#### Shuffling Data"
   ]
  },
  {
   "cell_type": "code",
   "execution_count": 81,
   "metadata": {},
   "outputs": [
    {
     "name": "stdout",
     "output_type": "stream",
     "text": [
      "(11684, 2197)\n",
      "(11684, 108)\n",
      "(11684, 144)\n",
      "(11684,)\n"
     ]
    }
   ],
   "source": [
    "\n",
    "indices = np.arange(len(ScenariosTrain))\n",
    "np.random.shuffle(indices)\n",
    "ScenariosTrain = ScenariosTrain[indices]\n",
    "IMsTrain = IMsTrain[indices]\n",
    "FeatureTrain = FeatureTrain[indices]\n",
    "\n",
    "LabelsTrain = LabelsTrain[indices]\n",
    "\n",
    "print(IMTrain.shape)\n",
    "print(FeatureTrain.shape)\n",
    "print(ScenariosTrain.shape)\n",
    "print(LabelsTrain.shape)\n",
    "\n",
    "# Plot data count\n",
    "# z_train = Counter(yIMs_train)\n",
    "# sns.countplot(yIMs_train)"
   ]
  },
  {
   "cell_type": "code",
   "execution_count": 82,
   "metadata": {},
   "outputs": [],
   "source": [
    "# to ignore image data\n",
    "if UseIMage == False:\n",
    "    IMTrain = np.zeros(IMTrain.shape)\n",
    "    IMsTest = np.zeros(IMsTest.shape)\n",
    "    print('Not Using Image')"
   ]
  },
  {
   "cell_type": "markdown",
   "metadata": {},
   "source": [
    "#### Convolutional for first tower"
   ]
  },
  {
   "cell_type": "code",
   "execution_count": 83,
   "metadata": {},
   "outputs": [],
   "source": [
    "\n",
    "if UseConv:\n",
    "    # input1 = Input(shape=(13, 13, 13, 1))\n",
    "    # x = Conv3D(32, (3, 3, 3), padding='same', activation='relu')(\n",
    "    #     input1)  # change to leakyRelu to avoid dead neurons\n",
    "    # x = Conv3D(64, (3, 3, 3), padding='same', activation='relu')(x)\n",
    "    # x = MaxPooling3D((2, 2, 2))(x)\n",
    "    # x2 = Flatten()(x)\n",
    "\n",
    "    # fms = 8 # or more if no improve\n",
    "    input1 = Input(shape=(13, 13, 13, 1), name=\"inputs\")\n",
    "\n",
    "    params = dict(kernel_size=(5, 5, 5), activation=None,\n",
    "                  padding=\"same\", kernel_initializer=\"he_uniform\")\n",
    "\n",
    "    # Transposed convolution parameters\n",
    "    # params_trans = dict(kernel_size=(2, 2, 2), strides=(1, 1, 1), padding=\"same\")\n",
    "\n",
    "    # BEGIN - Encoding path\n",
    "    # encodeA = ConvolutionBlock(input1, \"encodeA\", fms, params)\n",
    "\n",
    "    # First Encoder\n",
    "    name = \"encodeA\"\n",
    "    x = Conv3D(filters=8, **params, name=name + \"_conv0\")(input1)\n",
    "    x = BatchNormalization(name=name + \"_bn0\")(x)\n",
    "    x = Dropout(.20)(x)\n",
    "    x = Activation(\"relu\", name=name + \"_relu0\")(x)\n",
    "    # x = Conv3D(filters=4, **params, name=name + \"_conv1\")(x)\n",
    "    # x = BatchNormalization(name=name + \"_bn1\")(x)\n",
    "    # encodeA = Activation(\"relu\", name=name)(x)\n",
    "    poolA = MaxPooling3D(name=\"poolA\", pool_size=(2, 2, 2))(x)\n",
    "\n",
    "    # Second Encoder\n",
    "    name = \"encodeB\"\n",
    "    x = Conv3D(filters=16, **params, name=name + \"_conv0\")(poolA)\n",
    "    x = BatchNormalization(name=name + \"_bn0\")(x)\n",
    "    x = Dropout(.20)(x)\n",
    "    x = Activation(\"relu\", name=name + \"_relu0\")(x)\n",
    "    # x = Conv3D(filters=8, **params, name=name + \"_conv1\")(x)\n",
    "    # x = BatchNormalization(name=name + \"_bn1\")(x)\n",
    "    # encodeB = Activation(\"relu\", name=name)(x)\n",
    "    poolB = MaxPooling3D(name=\"poolB\", pool_size=(2, 2, 2))(x)\n",
    "\n",
    "    # Third Encoder\n",
    "    name = \"encodeC\"\n",
    "    x = Conv3D(filters=16, **params, name=name + \"_conv0\")(poolB)\n",
    "    x = BatchNormalization(name=name + \"_bn0\")(x)\n",
    "    x = Activation(\"relu\", name=name + \"_relu0\")(x)\n",
    "    # # x = Conv3D(filters=16, **params, name=name + \"_conv1\")(x)\n",
    "    # # x = BatchNormalization(name=name + \"_bn1\")(x)\n",
    "    # # encodeC = Activation(\"relu\", name=name)(x)\n",
    "    # poolC = MaxPooling3D(name=\"poolC\", pool_size=(2, 2, 2))(x)\n",
    "\n",
    "    # # Fourth Encoder\n",
    "    # name = \"encodeD\"\n",
    "    # x = Conv3D(filters=32, **params, name=name + \"_conv0\")(poolC)\n",
    "    # x = BatchNormalization(name=name + \"_bn0\")(x)\n",
    "    # x = Activation(\"relu\", name=name + \"_relu0\")(x)\n",
    "    # # x = Conv3D(filters=32, **params, name=name + \"_conv1\")(x)\n",
    "    # # x = BatchNormalization(name=name + \"_bn1\")(x)\n",
    "    # # encodeC = Activation(\"relu\", name=name)(x)\n",
    "    x2 = Flatten()(x) #was PoolA\n",
    "else:\n",
    "    # # Relu\n",
    "    input1 = keras.layers.Input(shape=(IMTrain.shape[1],))\n",
    "    # ,kernel_regularizer=keras.regularizers.l2(l=0.2)\n",
    "    x1 = keras.layers.Dense(32, input_dim=IMTrain.shape[1], activation='relu')(input1)\n",
    "    x2 = keras.layers.Dense(16, input_dim=IMTrain.shape[1], activation='relu')(x1)"
   ]
  },
  {
   "cell_type": "markdown",
   "metadata": {},
   "source": [
    "#### Handcrafted Features for Second Tower"
   ]
  },
  {
   "cell_type": "code",
   "execution_count": 84,
   "metadata": {},
   "outputs": [],
   "source": [
    "\n",
    "input3 = keras.layers.Input(shape=(FeatureTrain.shape[1],))\n",
    "xxx0 = keras.layers.Dense(32, input_dim=FeatureTrain.shape[1], activation='relu')(input3)\n",
    "xxx1 = keras.layers.Dense(16, input_dim=FeatureTrain.shape[1], activation='relu')(xxx0)\n",
    "# xxx2 = keras.layers.Dense(8, input_dim=XFeature_train.shape[1], activation='relu')(xxx1)\n",
    "# xxx2 = keras.layers.Dense(16, activation='relu')(xxx1)\n",
    "# xxx3 = keras.layers.Dense(8, activation='relu')(xxx2)\n",
    "\n",
    "# Combine Towers\n",
    "combined = keras.layers.concatenate([x2, xxx1])\n",
    "# Relu\n",
    "out = keras.layers.Dense(4, activation='sigmoid')(combined)\n",
    "# Leaky Relu\n",
    "# out = keras.layers.Dense(4)(added)\n",
    "# out = keras.layers.LeakyReLU(alpha=0.05)(out)"
   ]
  },
  {
   "cell_type": "markdown",
   "metadata": {},
   "source": [
    "#### Final output"
   ]
  },
  {
   "cell_type": "code",
   "execution_count": 85,
   "metadata": {},
   "outputs": [],
   "source": [
    "out1 = keras.layers.Dense(1, activation='sigmoid')(out)\n",
    "model = keras.models.Model(inputs=[input1, input3], outputs=out1)"
   ]
  },
  {
   "cell_type": "markdown",
   "metadata": {},
   "source": [
    "#### Customized Loss functions"
   ]
  },
  {
   "cell_type": "code",
   "execution_count": 86,
   "metadata": {},
   "outputs": [],
   "source": [
    "import keras.backend as K\n",
    "\n",
    "def CrossEntropy(y_true,y_pred):\n",
    "    if y_true == 1:\n",
    "        return -log(y_pred)\n",
    "    else:\n",
    "        return -log(1 - y_pred)\n",
    "\n",
    "def keras_loss_0(y_true,y_pred):\n",
    "        return K.mean(K.square(y_pred - y_true) + K.square(layer), axis=-1)\n",
    "\n",
    "def keras_loss_1(y_actual, y_predicted):\n",
    "    loss_value = K.mean(K.sum(K.square((y_actual-y_predicted)/0.5)))\n",
    "    return loss_value\n",
    "\n",
    "def mean_squared_logarithmic_error(y_true, y_pred):\n",
    "    first_log = K.log(K.clip(y_pred, K.epsilon(), None) + 1.)\n",
    "    second_log = K.log(K.clip(y_true, K.epsilon(), None) + 1.)\n",
    "    return K.mean(K.square(first_log - second_log), axis=-1)"
   ]
  },
  {
   "cell_type": "markdown",
   "metadata": {},
   "source": [
    "#### Compile model\n"
   ]
  },
  {
   "cell_type": "code",
   "execution_count": 88,
   "metadata": {},
   "outputs": [],
   "source": [
    "optimizer = keras.optimizers.Adam(lr=learning_Rate)\n",
    "model.compile(loss='binary_crossentropy',\n",
    "              optimizer=optimizer,\n",
    "              metrics=['accuracy'],\n",
    "\n",
    "              )\n",
    "# Tensor board Data\n",
    "tensorboard = TensorBoard(log_dir=\"E:/AutomatedTracing/AutomatedTracing/Python/logs/\"+PltNAme)\n",
    "\n",
    "# checkpoint # This is Called Early Stopping (stop at best validation)\n",
    "from keras.callbacks import ModelCheckpoint\n",
    "filepath= root_dir + '/data/models/'+PltNAme+\"_weights.max_val_acc.hdf5\"\n",
    "checkpoint_max_val_acc = ModelCheckpoint(filepath, monitor='val_acc', verbose=1, save_best_only=True, mode='max')\n",
    "\n",
    "filepath = root_dir + '/data/models/'+ PltNAme + \"_weights.min_val_acc.hdf5\"\n",
    "checkpoint_min_val_acc = ModelCheckpoint(filepath, monitor='val_acc', verbose=1, save_best_only=True,\n",
    "                                         mode='min')\n",
    "            "
   ]
  },
  {
   "cell_type": "code",
   "execution_count": 90,
   "metadata": {},
   "outputs": [],
   "source": [
    "filepath = root_dir + '/data/models/'+ PltNAme + \"_weights.max_val_loss.hdf5\"\n",
    "checkpoint_max_val_loss = ModelCheckpoint(filepath, monitor='val_loss', verbose=1, save_best_only=True, mode='max')\n",
    "\n",
    "filepath = root_dir + '/data/models/'+ PltNAme + \"_weights.min_val_loss.hdf5\"\n",
    "checkpoint_min_val_loss = ModelCheckpoint(filepath, monitor='val_loss', verbose=1, save_best_only=True,\n",
    "                                          mode='min')"
   ]
  },
  {
   "cell_type": "code",
   "execution_count": 91,
   "metadata": {},
   "outputs": [],
   "source": [
    "if UseConv:\n",
    "    X_IMs = IMsTrain3D.reshape(IMsTrain3D.shape[0], IMsTrain3D.shape[1],\n",
    "                               IMsTrain3D.shape[2], IMsTrain3D.shape[3],1)\n",
    "else:\n",
    "    X_IMs = IMTrain"
   ]
  },
  {
   "cell_type": "markdown",
   "metadata": {},
   "source": [
    "#### Model fit"
   ]
  },
  {
   "cell_type": "code",
   "execution_count": 92,
   "metadata": {},
   "outputs": [
    {
     "name": "stdout",
     "output_type": "stream",
     "text": [
      "Train on 8178 samples, validate on 3506 samples\n",
      "Epoch 1/10\n",
      "8178/8178 [==============================] - 10s 1ms/step - loss: 0.6298 - accuracy: 0.9128 - val_loss: 0.5670 - val_accuracy: 0.9353\n",
      "Epoch 2/10\n",
      "8178/8178 [==============================] - 8s 995us/step - loss: 0.5196 - accuracy: 0.9335 - val_loss: 0.4754 - val_accuracy: 0.9353\n",
      "Epoch 3/10\n",
      "8178/8178 [==============================] - 8s 998us/step - loss: 0.4422 - accuracy: 0.9335 - val_loss: 0.4095 - val_accuracy: 0.9353\n",
      "Epoch 4/10\n",
      "8178/8178 [==============================] - 8s 1ms/step - loss: 0.3864 - accuracy: 0.9335 - val_loss: 0.3621 - val_accuracy: 0.9353\n",
      "Epoch 5/10\n",
      "8178/8178 [==============================] - 8s 986us/step - loss: 0.3463 - accuracy: 0.9335 - val_loss: 0.3280 - val_accuracy: 0.9353\n",
      "Epoch 6/10\n",
      "8178/8178 [==============================] - 8s 999us/step - loss: 0.3175 - accuracy: 0.9335 - val_loss: 0.3034 - val_accuracy: 0.9353\n",
      "Epoch 7/10\n",
      "8178/8178 [==============================] - 8s 989us/step - loss: 0.2968 - accuracy: 0.9335 - val_loss: 0.2856 - val_accuracy: 0.9353\n",
      "Epoch 8/10\n",
      "8178/8178 [==============================] - 8s 1ms/step - loss: 0.2819 - accuracy: 0.9335 - val_loss: 0.2727 - val_accuracy: 0.9353\n",
      "Epoch 9/10\n",
      "8178/8178 [==============================] - 8s 995us/step - loss: 0.2711 - accuracy: 0.9335 - val_loss: 0.2633 - val_accuracy: 0.9353\n",
      "Epoch 10/10\n",
      "8178/8178 [==============================] - 8s 997us/step - loss: 0.2633 - accuracy: 0.9335 - val_loss: 0.2566 - val_accuracy: 0.9353\n"
     ]
    }
   ],
   "source": [
    "\n",
    "history = model.fit([X_IMs,FeatureTrain],\n",
    "                    LabelsTrain,\n",
    "                    epochs=epoch,\n",
    "                    batch_size=batch_size,\n",
    "                    validation_split=0.30,\n",
    "                    verbose=1\n",
    "#                     ,callbacks=[checkpoint_max_val_acc,checkpoint_min_val_acc,checkpoint_max_val_loss,checkpoint_min_val_loss,tensorboard],\n",
    "                    )"
   ]
  },
  {
   "cell_type": "code",
   "execution_count": 69,
   "metadata": {},
   "outputs": [],
   "source": [
    "# Save Model\n",
    "model.save(root_dir + '/data/models/'+ PltNAme+'.h5')"
   ]
  },
  {
   "cell_type": "code",
   "execution_count": 70,
   "metadata": {},
   "outputs": [
    {
     "name": "stdout",
     "output_type": "stream",
     "text": [
      "Model: \"model_2\"\n",
      "__________________________________________________________________________________________________\n",
      "Layer (type)                    Output Shape         Param #     Connected to                     \n",
      "==================================================================================================\n",
      "inputs (InputLayer)             (None, 13, 13, 13, 1 0                                            \n",
      "__________________________________________________________________________________________________\n",
      "encodeA_conv0 (Conv3D)          (None, 13, 13, 13, 8 1008        inputs[0][0]                     \n",
      "__________________________________________________________________________________________________\n",
      "encodeA_bn0 (BatchNormalization (None, 13, 13, 13, 8 32          encodeA_conv0[0][0]              \n",
      "__________________________________________________________________________________________________\n",
      "dropout_3 (Dropout)             (None, 13, 13, 13, 8 0           encodeA_bn0[0][0]                \n",
      "__________________________________________________________________________________________________\n",
      "encodeA_relu0 (Activation)      (None, 13, 13, 13, 8 0           dropout_3[0][0]                  \n",
      "__________________________________________________________________________________________________\n",
      "poolA (MaxPooling3D)            (None, 6, 6, 6, 8)   0           encodeA_relu0[0][0]              \n",
      "__________________________________________________________________________________________________\n",
      "encodeB_conv0 (Conv3D)          (None, 6, 6, 6, 16)  16016       poolA[0][0]                      \n",
      "__________________________________________________________________________________________________\n",
      "encodeB_bn0 (BatchNormalization (None, 6, 6, 6, 16)  64          encodeB_conv0[0][0]              \n",
      "__________________________________________________________________________________________________\n",
      "dropout_4 (Dropout)             (None, 6, 6, 6, 16)  0           encodeB_bn0[0][0]                \n",
      "__________________________________________________________________________________________________\n",
      "encodeB_relu0 (Activation)      (None, 6, 6, 6, 16)  0           dropout_4[0][0]                  \n",
      "__________________________________________________________________________________________________\n",
      "poolB (MaxPooling3D)            (None, 3, 3, 3, 16)  0           encodeB_relu0[0][0]              \n",
      "__________________________________________________________________________________________________\n",
      "encodeC_conv0 (Conv3D)          (None, 3, 3, 3, 16)  32016       poolB[0][0]                      \n",
      "__________________________________________________________________________________________________\n",
      "encodeC_bn0 (BatchNormalization (None, 3, 3, 3, 16)  64          encodeC_conv0[0][0]              \n",
      "__________________________________________________________________________________________________\n",
      "input_2 (InputLayer)            (None, 108)          0                                            \n",
      "__________________________________________________________________________________________________\n",
      "encodeC_relu0 (Activation)      (None, 3, 3, 3, 16)  0           encodeC_bn0[0][0]                \n",
      "__________________________________________________________________________________________________\n",
      "dense_5 (Dense)                 (None, 32)           3488        input_2[0][0]                    \n",
      "__________________________________________________________________________________________________\n",
      "flatten_2 (Flatten)             (None, 432)          0           encodeC_relu0[0][0]              \n",
      "__________________________________________________________________________________________________\n",
      "dense_6 (Dense)                 (None, 16)           528         dense_5[0][0]                    \n",
      "__________________________________________________________________________________________________\n",
      "concatenate_2 (Concatenate)     (None, 448)          0           flatten_2[0][0]                  \n",
      "                                                                 dense_6[0][0]                    \n",
      "__________________________________________________________________________________________________\n",
      "dense_7 (Dense)                 (None, 4)            1796        concatenate_2[0][0]              \n",
      "__________________________________________________________________________________________________\n",
      "dense_8 (Dense)                 (None, 1)            5           dense_7[0][0]                    \n",
      "==================================================================================================\n",
      "Total params: 55,017\n",
      "Trainable params: 54,937\n",
      "Non-trainable params: 80\n",
      "__________________________________________________________________________________________________\n",
      "None\n"
     ]
    },
    {
     "ename": "OSError",
     "evalue": "`pydot` failed to call GraphViz.Please install GraphViz (https://www.graphviz.org/) and ensure that its executables are in the $PATH.",
     "output_type": "error",
     "traceback": [
      "\u001b[1;31m---------------------------------------------------------------------------\u001b[0m",
      "\u001b[1;31mFileNotFoundError\u001b[0m                         Traceback (most recent call last)",
      "\u001b[1;32m~\\Anaconda3\\lib\\site-packages\\pydot.py\u001b[0m in \u001b[0;36mcreate\u001b[1;34m(self, prog, format, encoding)\u001b[0m\n\u001b[0;32m   1914\u001b[0m                 \u001b[0marguments\u001b[0m\u001b[1;33m=\u001b[0m\u001b[0marguments\u001b[0m\u001b[1;33m,\u001b[0m\u001b[1;33m\u001b[0m\u001b[1;33m\u001b[0m\u001b[0m\n\u001b[1;32m-> 1915\u001b[1;33m                 \u001b[0mworking_dir\u001b[0m\u001b[1;33m=\u001b[0m\u001b[0mtmp_dir\u001b[0m\u001b[1;33m,\u001b[0m\u001b[1;33m\u001b[0m\u001b[1;33m\u001b[0m\u001b[0m\n\u001b[0m\u001b[0;32m   1916\u001b[0m             )\n",
      "\u001b[1;32m~\\Anaconda3\\lib\\site-packages\\pydot.py\u001b[0m in \u001b[0;36mcall_graphviz\u001b[1;34m(program, arguments, working_dir, **kwargs)\u001b[0m\n\u001b[0;32m    135\u001b[0m         \u001b[0mstdout\u001b[0m\u001b[1;33m=\u001b[0m\u001b[0msubprocess\u001b[0m\u001b[1;33m.\u001b[0m\u001b[0mPIPE\u001b[0m\u001b[1;33m,\u001b[0m\u001b[1;33m\u001b[0m\u001b[1;33m\u001b[0m\u001b[0m\n\u001b[1;32m--> 136\u001b[1;33m         \u001b[1;33m**\u001b[0m\u001b[0mkwargs\u001b[0m\u001b[1;33m\u001b[0m\u001b[1;33m\u001b[0m\u001b[0m\n\u001b[0m\u001b[0;32m    137\u001b[0m     )\n",
      "\u001b[1;32m~\\Anaconda3\\lib\\subprocess.py\u001b[0m in \u001b[0;36m__init__\u001b[1;34m(self, args, bufsize, executable, stdin, stdout, stderr, preexec_fn, close_fds, shell, cwd, env, universal_newlines, startupinfo, creationflags, restore_signals, start_new_session, pass_fds, encoding, errors, text)\u001b[0m\n\u001b[0;32m    774\u001b[0m                                 \u001b[0merrread\u001b[0m\u001b[1;33m,\u001b[0m \u001b[0merrwrite\u001b[0m\u001b[1;33m,\u001b[0m\u001b[1;33m\u001b[0m\u001b[1;33m\u001b[0m\u001b[0m\n\u001b[1;32m--> 775\u001b[1;33m                                 restore_signals, start_new_session)\n\u001b[0m\u001b[0;32m    776\u001b[0m         \u001b[1;32mexcept\u001b[0m\u001b[1;33m:\u001b[0m\u001b[1;33m\u001b[0m\u001b[1;33m\u001b[0m\u001b[0m\n",
      "\u001b[1;32m~\\Anaconda3\\lib\\subprocess.py\u001b[0m in \u001b[0;36m_execute_child\u001b[1;34m(self, args, executable, preexec_fn, close_fds, pass_fds, cwd, env, startupinfo, creationflags, shell, p2cread, p2cwrite, c2pread, c2pwrite, errread, errwrite, unused_restore_signals, unused_start_new_session)\u001b[0m\n\u001b[0;32m   1177\u001b[0m                                          \u001b[0mos\u001b[0m\u001b[1;33m.\u001b[0m\u001b[0mfspath\u001b[0m\u001b[1;33m(\u001b[0m\u001b[0mcwd\u001b[0m\u001b[1;33m)\u001b[0m \u001b[1;32mif\u001b[0m \u001b[0mcwd\u001b[0m \u001b[1;32mis\u001b[0m \u001b[1;32mnot\u001b[0m \u001b[1;32mNone\u001b[0m \u001b[1;32melse\u001b[0m \u001b[1;32mNone\u001b[0m\u001b[1;33m,\u001b[0m\u001b[1;33m\u001b[0m\u001b[1;33m\u001b[0m\u001b[0m\n\u001b[1;32m-> 1178\u001b[1;33m                                          startupinfo)\n\u001b[0m\u001b[0;32m   1179\u001b[0m             \u001b[1;32mfinally\u001b[0m\u001b[1;33m:\u001b[0m\u001b[1;33m\u001b[0m\u001b[1;33m\u001b[0m\u001b[0m\n",
      "\u001b[1;31mFileNotFoundError\u001b[0m: [WinError 2] The system cannot find the file specified",
      "\nDuring handling of the above exception, another exception occurred:\n",
      "\u001b[1;31mFileNotFoundError\u001b[0m                         Traceback (most recent call last)",
      "\u001b[1;32m~\\Anaconda3\\lib\\site-packages\\keras\\utils\\vis_utils.py\u001b[0m in \u001b[0;36m_check_pydot\u001b[1;34m()\u001b[0m\n\u001b[0;32m     27\u001b[0m         \u001b[1;31m# to check the pydot/graphviz installation.\u001b[0m\u001b[1;33m\u001b[0m\u001b[1;33m\u001b[0m\u001b[1;33m\u001b[0m\u001b[0m\n\u001b[1;32m---> 28\u001b[1;33m         \u001b[0mpydot\u001b[0m\u001b[1;33m.\u001b[0m\u001b[0mDot\u001b[0m\u001b[1;33m.\u001b[0m\u001b[0mcreate\u001b[0m\u001b[1;33m(\u001b[0m\u001b[0mpydot\u001b[0m\u001b[1;33m.\u001b[0m\u001b[0mDot\u001b[0m\u001b[1;33m(\u001b[0m\u001b[1;33m)\u001b[0m\u001b[1;33m)\u001b[0m\u001b[1;33m\u001b[0m\u001b[1;33m\u001b[0m\u001b[0m\n\u001b[0m\u001b[0;32m     29\u001b[0m     \u001b[1;32mexcept\u001b[0m \u001b[0mOSError\u001b[0m\u001b[1;33m:\u001b[0m\u001b[1;33m\u001b[0m\u001b[1;33m\u001b[0m\u001b[0m\n",
      "\u001b[1;32m~\\Anaconda3\\lib\\site-packages\\pydot.py\u001b[0m in \u001b[0;36mcreate\u001b[1;34m(self, prog, format, encoding)\u001b[0m\n\u001b[0;32m   1921\u001b[0m                     prog=prog)\n\u001b[1;32m-> 1922\u001b[1;33m                 \u001b[1;32mraise\u001b[0m \u001b[0mOSError\u001b[0m\u001b[1;33m(\u001b[0m\u001b[1;33m*\u001b[0m\u001b[0margs\u001b[0m\u001b[1;33m)\u001b[0m\u001b[1;33m\u001b[0m\u001b[1;33m\u001b[0m\u001b[0m\n\u001b[0m\u001b[0;32m   1923\u001b[0m             \u001b[1;32melse\u001b[0m\u001b[1;33m:\u001b[0m\u001b[1;33m\u001b[0m\u001b[1;33m\u001b[0m\u001b[0m\n",
      "\u001b[1;31mFileNotFoundError\u001b[0m: [WinError 2] \"dot\" not found in path.",
      "\nDuring handling of the above exception, another exception occurred:\n",
      "\u001b[1;31mOSError\u001b[0m                                   Traceback (most recent call last)",
      "\u001b[1;32m<ipython-input-70-646a64dde8e1>\u001b[0m in \u001b[0;36m<module>\u001b[1;34m\u001b[0m\n\u001b[0;32m      4\u001b[0m \u001b[1;31m# pltName = root_dir + '/data/models/'+PltNAme+'.png'\u001b[0m\u001b[1;33m\u001b[0m\u001b[1;33m\u001b[0m\u001b[1;33m\u001b[0m\u001b[0m\n\u001b[0;32m      5\u001b[0m \u001b[1;31m# print(pltName)\u001b[0m\u001b[1;33m\u001b[0m\u001b[1;33m\u001b[0m\u001b[1;33m\u001b[0m\u001b[0m\n\u001b[1;32m----> 6\u001b[1;33m \u001b[0mplot_model\u001b[0m\u001b[1;33m(\u001b[0m\u001b[0mmodel\u001b[0m\u001b[1;33m,\u001b[0m \u001b[0mto_file\u001b[0m\u001b[1;33m=\u001b[0m\u001b[0mpltName\u001b[0m\u001b[1;33m,\u001b[0m \u001b[0mshow_shapes\u001b[0m\u001b[1;33m=\u001b[0m\u001b[1;32mTrue\u001b[0m\u001b[1;33m,\u001b[0m \u001b[0mshow_layer_names\u001b[0m\u001b[1;33m=\u001b[0m\u001b[1;32mTrue\u001b[0m\u001b[1;33m)\u001b[0m\u001b[1;33m\u001b[0m\u001b[1;33m\u001b[0m\u001b[0m\n\u001b[0m",
      "\u001b[1;32m~\\Anaconda3\\lib\\site-packages\\keras\\utils\\vis_utils.py\u001b[0m in \u001b[0;36mplot_model\u001b[1;34m(model, to_file, show_shapes, show_layer_names, rankdir, expand_nested, dpi)\u001b[0m\n\u001b[0;32m    238\u001b[0m     \"\"\"\n\u001b[0;32m    239\u001b[0m     dot = model_to_dot(model, show_shapes, show_layer_names, rankdir,\n\u001b[1;32m--> 240\u001b[1;33m                        expand_nested, dpi)\n\u001b[0m\u001b[0;32m    241\u001b[0m     \u001b[0m_\u001b[0m\u001b[1;33m,\u001b[0m \u001b[0mextension\u001b[0m \u001b[1;33m=\u001b[0m \u001b[0mos\u001b[0m\u001b[1;33m.\u001b[0m\u001b[0mpath\u001b[0m\u001b[1;33m.\u001b[0m\u001b[0msplitext\u001b[0m\u001b[1;33m(\u001b[0m\u001b[0mto_file\u001b[0m\u001b[1;33m)\u001b[0m\u001b[1;33m\u001b[0m\u001b[1;33m\u001b[0m\u001b[0m\n\u001b[0;32m    242\u001b[0m     \u001b[1;32mif\u001b[0m \u001b[1;32mnot\u001b[0m \u001b[0mextension\u001b[0m\u001b[1;33m:\u001b[0m\u001b[1;33m\u001b[0m\u001b[1;33m\u001b[0m\u001b[0m\n",
      "\u001b[1;32m~\\Anaconda3\\lib\\site-packages\\keras\\utils\\vis_utils.py\u001b[0m in \u001b[0;36mmodel_to_dot\u001b[1;34m(model, show_shapes, show_layer_names, rankdir, expand_nested, dpi, subgraph)\u001b[0m\n\u001b[0;32m     77\u001b[0m     \u001b[1;32mfrom\u001b[0m \u001b[1;33m.\u001b[0m\u001b[1;33m.\u001b[0m\u001b[0mmodels\u001b[0m \u001b[1;32mimport\u001b[0m \u001b[0mSequential\u001b[0m\u001b[1;33m\u001b[0m\u001b[1;33m\u001b[0m\u001b[0m\n\u001b[0;32m     78\u001b[0m \u001b[1;33m\u001b[0m\u001b[0m\n\u001b[1;32m---> 79\u001b[1;33m     \u001b[0m_check_pydot\u001b[0m\u001b[1;33m(\u001b[0m\u001b[1;33m)\u001b[0m\u001b[1;33m\u001b[0m\u001b[1;33m\u001b[0m\u001b[0m\n\u001b[0m\u001b[0;32m     80\u001b[0m     \u001b[1;32mif\u001b[0m \u001b[0msubgraph\u001b[0m\u001b[1;33m:\u001b[0m\u001b[1;33m\u001b[0m\u001b[1;33m\u001b[0m\u001b[0m\n\u001b[0;32m     81\u001b[0m         \u001b[0mdot\u001b[0m \u001b[1;33m=\u001b[0m \u001b[0mpydot\u001b[0m\u001b[1;33m.\u001b[0m\u001b[0mCluster\u001b[0m\u001b[1;33m(\u001b[0m\u001b[0mstyle\u001b[0m\u001b[1;33m=\u001b[0m\u001b[1;34m'dashed'\u001b[0m\u001b[1;33m,\u001b[0m \u001b[0mgraph_name\u001b[0m\u001b[1;33m=\u001b[0m\u001b[0mmodel\u001b[0m\u001b[1;33m.\u001b[0m\u001b[0mname\u001b[0m\u001b[1;33m)\u001b[0m\u001b[1;33m\u001b[0m\u001b[1;33m\u001b[0m\u001b[0m\n",
      "\u001b[1;32m~\\Anaconda3\\lib\\site-packages\\keras\\utils\\vis_utils.py\u001b[0m in \u001b[0;36m_check_pydot\u001b[1;34m()\u001b[0m\n\u001b[0;32m     29\u001b[0m     \u001b[1;32mexcept\u001b[0m \u001b[0mOSError\u001b[0m\u001b[1;33m:\u001b[0m\u001b[1;33m\u001b[0m\u001b[1;33m\u001b[0m\u001b[0m\n\u001b[0;32m     30\u001b[0m         raise OSError(\n\u001b[1;32m---> 31\u001b[1;33m             \u001b[1;34m'`pydot` failed to call GraphViz.'\u001b[0m\u001b[1;33m\u001b[0m\u001b[1;33m\u001b[0m\u001b[0m\n\u001b[0m\u001b[0;32m     32\u001b[0m             \u001b[1;34m'Please install GraphViz (https://www.graphviz.org/) '\u001b[0m\u001b[1;33m\u001b[0m\u001b[1;33m\u001b[0m\u001b[0m\n\u001b[0;32m     33\u001b[0m             'and ensure that its executables are in the $PATH.')\n",
      "\u001b[1;31mOSError\u001b[0m: `pydot` failed to call GraphViz.Please install GraphViz (https://www.graphviz.org/) and ensure that its executables are in the $PATH."
     ]
    }
   ],
   "source": [
    "# Model Summary\n",
    "print(model.summary())\n",
    "from keras.utils.vis_utils import plot_model\n",
    "# pltName = root_dir + '/data/models/'+PltNAme+'.png'\n",
    "# print(pltName)\n",
    "plot_model(model, to_file=pltName, show_shapes=True, show_layer_names=True)"
   ]
  },
  {
   "cell_type": "markdown",
   "metadata": {},
   "source": [
    "### Plot training & validation loss"
   ]
  },
  {
   "cell_type": "code",
   "execution_count": 94,
   "metadata": {},
   "outputs": [
    {
     "data": {
      "image/png": "[encoded data removed]",
      "text/plain": [
       "<Figure size 432x288 with 1 Axes>"
      ]
     },
     "metadata": {
      "needs_background": "light"
     },
     "output_type": "display_data"
    },
    {
     "name": "stdout",
     "output_type": "stream",
     "text": [
      "E:/AutomatedTracing/TraceProofreading/TraceProofreading/data/models/TEMP22_Drop_20_3LAyerHalf81616_kernel555_S1_2_SmUnet1TEST20INV_FEATURES_CONV=True_LR=0.001_100_sce_he_uniform_IM=1bchSiz=50_Use_IM=['True']_Epoch=10_run=1_Feb_28_10_10_loss.png\n"
     ]
    },
    {
     "data": {
      "text/plain": [
       "<Figure size 432x288 with 0 Axes>"
      ]
     },
     "metadata": {},
     "output_type": "display_data"
    }
   ],
   "source": [
    "\n",
    "plt.figure()\n",
    "plt.plot(history.history['loss'])\n",
    "plt.plot(history.history['val_loss'])\n",
    "plt.title('Model loss')\n",
    "plt.ylabel('Loss')\n",
    "plt.xlabel('Epoch')\n",
    "plt.legend(['Train', 'Validation'], loc='upper left')\n",
    "fig=plt.show()\n",
    "pltLoss = root_dir + '/data/models/'+PltNAme+'_loss.png'\n",
    "plt.savefig(pltLoss)\n",
    "print(pltLoss)"
   ]
  },
  {
   "cell_type": "markdown",
   "metadata": {},
   "source": [
    "### Customized Activation function"
   ]
  },
  {
   "cell_type": "code",
   "execution_count": null,
   "metadata": {},
   "outputs": [],
   "source": [
    "# Creating a model\n",
    "from keras.models import Sequential\n",
    "from keras.layers import Dense\n",
    "\n",
    "# Custom activation function\n",
    "from keras.layers import Activation\n",
    "from keras import backend as K\n",
    "from keras.utils.generic_utils import get_custom_objects\n",
    "\n",
    "\n",
    "def custom_activation(x):\n",
    "    return (K.sigmoid(x) * 5) - 1\n",
    "\n",
    "get_custom_objects().update({'custom_activation': Activation(custom_activation)})\n",
    "\n",
    "# Usage\n",
    "model = Sequential()\n",
    "model.add(Dense(32, input_dim=784))\n",
    "model.add(Activation(custom_activation, name='SpecialActivation'))\n",
    "print(model.summary())"
   ]
  }
 ],
 "metadata": {
  "kernelspec": {
   "display_name": "Python 3",
   "language": "python",
   "name": "python3"
  },
  "language_info": {
   "codemirror_mode": {
    "name": "ipython",
    "version": 3
   },
   "file_extension": ".py",
   "mimetype": "text/x-python",
   "name": "python",
   "nbconvert_exporter": "python",
   "pygments_lexer": "ipython3",
   "version": "3.7.3"
  }
 },
 "nbformat": 4,
 "nbformat_minor": 2
}
